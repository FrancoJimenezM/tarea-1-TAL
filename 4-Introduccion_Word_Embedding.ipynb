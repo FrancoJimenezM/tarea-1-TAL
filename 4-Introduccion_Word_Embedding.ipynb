{
 "cells": [
  {
   "cell_type": "markdown",
   "id": "f0e8d281",
   "metadata": {},
   "source": [
    "# Word Embedding\n",
    "\n",
    "## Motivación\n",
    "\n",
    "¿Cómo representar las dimensiones semánticas de cada palabra?\n",
    "\n",
    "Ejemplo:\n",
    "\n",
    "1. Quiero una naranja.\n",
    "2. Quiero una manzana.\n",
    "\n",
    "Los métodos que toman en cuenta solo la forma de las palabras no tienen la capacidad de calcular que las frases 1 y 2 tienen un sentido \"similar\". \n",
    "\n",
    "Necesitamos una manera de representar que las palabras 'naranja' y 'manzana' comparten caracterícas semánticas comunes.\n",
    "\n",
    "**Nota bene**\n",
    "\n",
    "En tratamiento automático del lenguaje, consideramos que el lenguaje tiene distintos componentes.\n",
    "- __morfológico__ o __fonológico__: es el componente más básico. Se empieza a reconocer las palabras y asociarlas a un significado. Ejemplo: \"manzana\"\n",
    "- __semántico__: Se empieza a conceptualizar y crear relaciones entre las palabras. Ejemplo: \"una manzana es una fruta\", \"las frutas se comen\".\n",
    "- __pragmático-discurso__: Es el componente más avanzado. En ese nivel, se conceptualiza que el lenguaje se utiliza en procesos de comunicación complejos. Según el contexto, los interlocutores, la cultura del entorno, las palabras pueden activar significados implicitos. Por ejemplo: \"Blancanieve come la manzana\", \"es un siete\", etc.\n",
    "\n",
    "\n",
    "\n",
    "- Lectura sugerida: Libro \"metaforas de la vida cotidiana\" https://en.wikipedia.org/wiki/Metaphors_We_Live_By\n"
   ]
  },
  {
   "cell_type": "markdown",
   "id": "00d2a427",
   "metadata": {},
   "source": [
    "## Definición de \"Word Embedding\"\n",
    "\n",
    "El concepto de **word embedding** se refiere a un conjunto de técnicas utilizadas para aprender representaciones matemáticas de la \"semántica\" de cada palabra. El objeto matemático que permite representar la semántica de una palabra es el **vector**.\n",
    "\n",
    "Una de las técnicas más populares es __Word2Vec__ propuesto por un equipo de investigación de Google en 2013 (Efficient Estimation of Word Representations in Vector Space [Mikolov et al., 2013]). Alternativas populares se basan sobre __GloVe__ (propuesta por la Universidad de Stanford en 2014) y __FastText__ (propuesta por Facebook en 2016), que extende Word2Vec para considerar de mejor manera las palabras con errores ortográficas."
   ]
  },
  {
   "cell_type": "markdown",
   "id": "3e2e6724",
   "metadata": {},
   "source": [
    "- ¿Qué es un vector?  https://es.wikipedia.org/wiki/Vector\n",
    "\n",
    "Se puede definir un vector por sus coordenadas en un espacio de N dimensiones. Por ejemplo, el vector V1 = (x1, x2, x3, ... xN)\n",
    "\n",
    "Se puede realizar operaciones sobre vectores: sumar, restar, similitud coseno, etc.\n",
    "https://es.wikipedia.org/wiki/Similitud_coseno"
   ]
  },
  {
   "cell_type": "markdown",
   "id": "e3e2748e",
   "metadata": {},
   "source": [
    "<img src=\"./img/word2vec4.png\"/>"
   ]
  },
  {
   "cell_type": "markdown",
   "id": "5597667f",
   "metadata": {},
   "source": [
    "Habitualmente, en tratamiento automático del lenguaje, se representan las palabras con vectores de 25, 50, 100 o 300 dimensiones."
   ]
  },
  {
   "cell_type": "markdown",
   "id": "a7bc3c12",
   "metadata": {},
   "source": [
    "## Un ejemplo práctico para acercarse al concepto de Word Embedding"
   ]
  },
  {
   "cell_type": "markdown",
   "id": "7273b3b7",
   "metadata": {},
   "source": [
    "La clase <code>word2vec</code> de Gensim permite manejar word embeddings de palabras (ver documentación: https://radimrehurek.com/gensim/models/word2vec.html)."
   ]
  },
  {
   "cell_type": "code",
   "execution_count": 2,
   "id": "ee9bcaa6",
   "metadata": {},
   "outputs": [],
   "source": [
    "from gensim.models import word2vec"
   ]
  },
  {
   "cell_type": "markdown",
   "id": "d6b8bb2e-6168-4ad6-b46c-76ca916a9485",
   "metadata": {},
   "source": [
    "Word2Vec utiliza las arquitecturas de redes neuronales Skip-Gram o CBOW para aprender representaciones vectoriales de palabras en función de su contexto en un corpus de texto."
   ]
  },
  {
   "cell_type": "code",
   "execution_count": 3,
   "id": "c60c981d",
   "metadata": {},
   "outputs": [],
   "source": [
    "sentences = word2vec.Text8Corpus('datasets/text8.txt')\n",
    "model = word2vec.Word2Vec(sentences,vector_size=200,hs=1)"
   ]
  },
  {
   "cell_type": "code",
   "execution_count": 4,
   "id": "c13e732e",
   "metadata": {},
   "outputs": [],
   "source": [
    "model.save(\"text8_model\") ##genera un archivo"
   ]
  },
  {
   "cell_type": "code",
   "execution_count": 5,
   "id": "eaaa09cf",
   "metadata": {},
   "outputs": [],
   "source": [
    "model=word2vec.Word2Vec.load(\"text8_model\")"
   ]
  },
  {
   "cell_type": "code",
   "execution_count": 6,
   "id": "ca8ad152",
   "metadata": {},
   "outputs": [
    {
     "name": "stdout",
     "output_type": "stream",
     "text": [
      "Word2Vec<vocab=71290, vector_size=200, alpha=0.025>\n"
     ]
    }
   ],
   "source": [
    "print(model)"
   ]
  },
  {
   "cell_type": "markdown",
   "id": "e4792b32",
   "metadata": {},
   "source": [
    "- Ver el vector de palabras específicas. Por ejemplo \"computer\", \"life\", etc."
   ]
  },
  {
   "cell_type": "code",
   "execution_count": 7,
   "id": "62b48092",
   "metadata": {},
   "outputs": [
    {
     "data": {
      "text/plain": [
       "array([ 6.07653260e-01, -1.56438529e+00, -1.08088863e+00,  2.17161834e-01,\n",
       "        6.81927621e-01, -2.60122299e-01, -5.19749045e-01, -5.99244058e-01,\n",
       "        1.65224302e+00, -6.84705198e-01,  6.58059835e-01, -1.06706846e+00,\n",
       "       -2.27046028e-01, -4.03746426e-01,  3.32659572e-01,  7.65332103e-01,\n",
       "       -1.05580330e+00, -8.17251682e-01,  9.43966448e-01,  5.03166199e-01,\n",
       "       -6.34891748e-01,  8.20288539e-01, -8.83785069e-01, -7.46399105e-01,\n",
       "       -1.21809280e+00,  2.45828822e-01, -1.82850033e-01,  6.61237657e-01,\n",
       "        1.71221125e+00,  4.15206552e-01,  6.51890218e-01,  1.84696603e+00,\n",
       "       -5.18211544e-01,  1.82173550e-01, -8.34528863e-01, -1.92109942e-01,\n",
       "        5.53222537e-01, -3.08107167e-01,  1.23217396e-01, -1.85594130e+00,\n",
       "        7.59350240e-01,  3.00168549e-03, -1.10188544e-01,  5.74903011e-01,\n",
       "        7.16544509e-01,  1.20882833e+00, -6.25590384e-01, -5.17841935e-01,\n",
       "        5.78932464e-01,  7.68354833e-01,  9.06512499e-01, -7.10546911e-01,\n",
       "       -3.87420297e-01, -1.83633820e-04,  9.54597056e-01, -2.31771231e+00,\n",
       "       -1.25137091e+00,  7.58674145e-01, -1.24127972e+00,  1.02680802e+00,\n",
       "        1.04348326e+00, -1.73366129e+00, -1.66179973e-03, -1.47906435e+00,\n",
       "       -5.78038037e-01, -1.04711473e+00,  1.37776673e-01, -9.21541929e-01,\n",
       "       -1.06948167e-01, -1.30073333e+00,  4.31876510e-01,  3.22131336e-01,\n",
       "       -1.02781355e+00, -5.62275529e-01, -1.02399957e+00, -5.88557243e-01,\n",
       "       -9.44299221e-01, -6.79435313e-01, -6.01392865e-01,  2.61602223e-01,\n",
       "        4.62557316e-01,  8.90088379e-01,  2.79327452e-01,  9.04294014e-01,\n",
       "       -6.56974137e-01, -3.51160496e-01,  4.94820714e-01,  1.61341953e+00,\n",
       "       -1.03424764e+00, -5.00177801e-01,  3.56285840e-01, -5.57240188e-01,\n",
       "        2.85654992e-01,  5.78827977e-01, -1.44757116e+00, -1.16240308e-01,\n",
       "        1.24922109e+00,  1.05131991e-01,  1.75709975e+00,  5.77343144e-02,\n",
       "       -7.87496328e-01,  1.79510430e-01,  3.52419972e-01, -8.90723407e-01,\n",
       "       -8.34889948e-01,  6.47536993e-01, -7.15789497e-01, -1.89430267e-01,\n",
       "        2.57384449e-01, -8.36929023e-01, -5.19089282e-01, -6.99658394e-01,\n",
       "        6.53459847e-01,  9.26892281e-01,  2.32945219e-01, -5.27777076e-02,\n",
       "       -6.08550906e-01, -1.28352487e+00,  1.27019823e+00, -1.57589301e-01,\n",
       "       -4.06018347e-01, -2.06173901e-02, -1.48879930e-01, -1.54004741e+00,\n",
       "        3.24528843e-01, -4.39663410e-01,  8.45317543e-01, -4.28501010e-01,\n",
       "       -8.53282332e-01, -6.94912493e-01, -7.15024114e-01, -2.18320593e-01,\n",
       "       -6.39355004e-01,  2.42659941e-01, -9.91333485e-01, -9.94151890e-01,\n",
       "        7.80117139e-02, -2.36728877e-01, -4.40799864e-03,  1.20383906e+00,\n",
       "       -1.18494749e+00,  1.86868921e-01,  6.60827756e-01, -6.58728182e-01,\n",
       "       -5.64105928e-01, -4.53488380e-01, -4.82011110e-01, -1.14401114e+00,\n",
       "       -2.25386590e-01, -1.21109533e+00, -6.67997599e-01,  2.18994498e-01,\n",
       "       -8.82999822e-02, -5.87978125e-01, -9.01534677e-01, -1.25804856e-01,\n",
       "       -1.43329298e+00, -5.36411941e-01, -1.80346894e+00, -8.86077285e-02,\n",
       "       -8.59942973e-01, -1.57717514e+00,  6.02692187e-01, -1.08715177e+00,\n",
       "       -1.74498752e-01,  9.11258757e-01, -3.81316602e-01,  2.32196093e-01,\n",
       "       -2.42314965e-01,  1.96264923e-01,  1.96918640e-02, -6.19948208e-01,\n",
       "       -1.21379793e+00,  8.67649615e-01,  9.83219862e-01,  5.15770435e-01,\n",
       "        9.59729850e-01, -1.54063940e+00, -7.87737608e-01,  5.85907698e-01,\n",
       "       -1.23567629e+00, -5.26216984e-01, -1.67274606e+00, -1.07012260e+00,\n",
       "        8.55350614e-01, -1.89525104e+00, -2.44318843e-01, -2.54466116e-01,\n",
       "       -5.51275730e-01, -7.44318843e-01, -4.55027878e-01, -4.29065198e-01,\n",
       "        4.76769716e-01,  1.69384480e-02, -1.47044897e+00,  1.18002808e+00,\n",
       "       -1.09931958e+00,  3.88425291e-01,  3.65449280e-01, -3.64527047e-01],\n",
       "      dtype=float32)"
      ]
     },
     "execution_count": 7,
     "metadata": {},
     "output_type": "execute_result"
    }
   ],
   "source": [
    "model.wv['life']"
   ]
  },
  {
   "cell_type": "markdown",
   "id": "39a6f695",
   "metadata": {},
   "source": [
    "**Nota bene**: Los parámetros de cada vector fueron aprendidos a través de un proceso de aprendizaje supervisado de una red neuronal, utilizando una dataset de entrenamiento. Las técnicas más comunes para aprender vectores de palabras se llaman CBOW (continuous bag of words) y Skip gram."
   ]
  },
  {
   "cell_type": "markdown",
   "id": "eccfed1f",
   "metadata": {},
   "source": [
    "- Similitud coseno con otras palabras. Por ejemplo: \"computer\", \"life\", \"country\", \"conflict\", \"violence\", etc."
   ]
  },
  {
   "cell_type": "code",
   "execution_count": 8,
   "id": "01a74d21",
   "metadata": {},
   "outputs": [
    {
     "data": {
      "text/plain": [
       "[('nation', 0.6186625957489014),\n",
       " ('region', 0.5408339500427246),\n",
       " ('economy', 0.5097231268882751),\n",
       " ('kazakhstan', 0.46346724033355713),\n",
       " ('europe', 0.45298612117767334)]"
      ]
     },
     "execution_count": 8,
     "metadata": {},
     "output_type": "execute_result"
    }
   ],
   "source": [
    "model.wv.most_similar(positive=['country'],topn=5)"
   ]
  },
  {
   "cell_type": "markdown",
   "id": "0fdbd9cf",
   "metadata": {},
   "source": [
    "- Similitud coseno combinado con suma y resta"
   ]
  },
  {
   "cell_type": "code",
   "execution_count": 9,
   "id": "829e13e8",
   "metadata": {},
   "outputs": [
    {
     "data": {
      "text/plain": [
       "[('confrontation', 0.5699299573898315),\n",
       " ('fighting', 0.5406368374824524),\n",
       " ('struggle', 0.5287227034568787),\n",
       " ('weapons', 0.5232676267623901),\n",
       " ('warfare', 0.4980403780937195),\n",
       " ('rifle', 0.49614542722702026),\n",
       " ('pistol', 0.4941072165966034),\n",
       " ('warheads', 0.49138104915618896),\n",
       " ('combat', 0.4905371069908142),\n",
       " ('firearm', 0.48504623770713806)]"
      ]
     },
     "execution_count": 9,
     "metadata": {},
     "output_type": "execute_result"
    }
   ],
   "source": [
    "model.wv.most_similar(positive=[\"conflict\",\"weapon\"])"
   ]
  },
  {
   "cell_type": "code",
   "execution_count": 10,
   "id": "3004a4fe",
   "metadata": {},
   "outputs": [
    {
     "data": {
      "text/plain": [
       "[('disagreements', 0.5136250853538513),\n",
       " ('clashes', 0.5113856196403503),\n",
       " ('disputes', 0.501711368560791),\n",
       " ('conflicts', 0.46025100350379944),\n",
       " ('dispute', 0.4554281234741211),\n",
       " ('tensions', 0.44997236132621765),\n",
       " ('hostilities', 0.4339393973350525),\n",
       " ('antagonism', 0.43237364292144775),\n",
       " ('negotiations', 0.4308357834815979),\n",
       " ('strife', 0.4264780580997467)]"
      ]
     },
     "execution_count": 10,
     "metadata": {},
     "output_type": "execute_result"
    }
   ],
   "source": [
    "model.wv.most_similar(positive=[\"conflict\"],negative=[\"weapon\"])"
   ]
  },
  {
   "cell_type": "code",
   "execution_count": 11,
   "id": "ab5fdbf0",
   "metadata": {},
   "outputs": [
    {
     "data": {
      "text/plain": [
       "[('childhood', 0.3727564811706543),\n",
       " ('adolescence', 0.35735276341438293),\n",
       " ('experiences', 0.3402749300003052),\n",
       " ('lives', 0.32403653860092163),\n",
       " ('incarnations', 0.3185120224952698),\n",
       " ('kundalini', 0.3143002986907959),\n",
       " ('embryonic', 0.31366878747940063),\n",
       " ('ueshiba', 0.3116791546344757),\n",
       " ('visions', 0.30381709337234497),\n",
       " ('career', 0.3037593364715576)]"
      ]
     },
     "execution_count": 11,
     "metadata": {},
     "output_type": "execute_result"
    }
   ],
   "source": [
    "model.wv.most_similar(positive=[\"life\"],negative=[\"money\"])"
   ]
  },
  {
   "cell_type": "code",
   "execution_count": 12,
   "id": "536e592c",
   "metadata": {},
   "outputs": [
    {
     "data": {
      "text/plain": [
       "[('profits', 0.5188786387443542),\n",
       " ('happiness', 0.5023502111434937),\n",
       " ('fortune', 0.49740085005760193),\n",
       " ('debts', 0.4414561092853546),\n",
       " ('humanity', 0.42979487776756287),\n",
       " ('wealth', 0.4277540445327759),\n",
       " ('estate', 0.42399176955223083),\n",
       " ('earnings', 0.4203926622867584),\n",
       " ('work', 0.4187853932380676),\n",
       " ('gift', 0.4156307876110077)]"
      ]
     },
     "execution_count": 12,
     "metadata": {},
     "output_type": "execute_result"
    }
   ],
   "source": [
    "model.wv.most_similar(positive=[\"life\",\"money\"])"
   ]
  },
  {
   "cell_type": "code",
   "execution_count": 13,
   "id": "5c3587a3",
   "metadata": {},
   "outputs": [
    {
     "data": {
      "text/plain": [
       "[('affection', 0.5499897599220276),\n",
       " ('happiness', 0.5474748015403748),\n",
       " ('compassion', 0.5344129204750061),\n",
       " ('humanity', 0.5309140682220459),\n",
       " ('emotions', 0.5158870220184326),\n",
       " ('sadness', 0.5086187720298767),\n",
       " ('mankind', 0.5084312558174133),\n",
       " ('greed', 0.496202677488327),\n",
       " ('soul', 0.4955383539199829),\n",
       " ('lust', 0.4919815957546234)]"
      ]
     },
     "execution_count": 13,
     "metadata": {},
     "output_type": "execute_result"
    }
   ],
   "source": [
    "model.wv.most_similar(positive=[\"life\",\"empathy\",\"love\",\"joy\"])"
   ]
  },
  {
   "cell_type": "code",
   "execution_count": 14,
   "id": "b1336641",
   "metadata": {},
   "outputs": [
    {
     "data": {
      "text/plain": [
       "[('bolivia', 0.6594616770744324),\n",
       " ('colombia', 0.658710241317749),\n",
       " ('argentina', 0.6212489008903503),\n",
       " ('brazil', 0.6132237315177917),\n",
       " ('ecuador', 0.6095288991928101),\n",
       " ('cuba', 0.6018980741500854),\n",
       " ('peru', 0.5867090225219727),\n",
       " ('uruguay', 0.5637916922569275),\n",
       " ('paraguay', 0.5214423537254333),\n",
       " ('chilean', 0.5120405554771423)]"
      ]
     },
     "execution_count": 14,
     "metadata": {},
     "output_type": "execute_result"
    }
   ],
   "source": [
    "model.wv.most_similar(positive=[\"chile\"])"
   ]
  },
  {
   "cell_type": "code",
   "execution_count": 15,
   "id": "25678c54",
   "metadata": {},
   "outputs": [
    {
     "data": {
      "text/plain": [
       "[('bolivia', 0.5770161151885986),\n",
       " ('hostilities', 0.5575370788574219),\n",
       " ('clashes', 0.5568962693214417),\n",
       " ('argentina', 0.5563543438911438),\n",
       " ('confrontation', 0.5515499114990234),\n",
       " ('cuba', 0.5406152606010437),\n",
       " ('colombia', 0.5265712141990662),\n",
       " ('ecuador', 0.5111971497535706),\n",
       " ('nicaragua', 0.5001786351203918),\n",
       " ('unrest', 0.4965032935142517)]"
      ]
     },
     "execution_count": 15,
     "metadata": {},
     "output_type": "execute_result"
    }
   ],
   "source": [
    "model.wv.most_similar(positive=[\"chile\",\"conflict\"])"
   ]
  },
  {
   "cell_type": "markdown",
   "id": "31adf003",
   "metadata": {},
   "source": [
    "- Palabras que se alejan de otras palabras"
   ]
  },
  {
   "cell_type": "code",
   "execution_count": 16,
   "id": "739d83d0",
   "metadata": {},
   "outputs": [
    {
     "data": {
      "text/plain": [
       "'cereal'"
      ]
     },
     "execution_count": 16,
     "metadata": {},
     "output_type": "execute_result"
    }
   ],
   "source": [
    "model.wv.doesnt_match(\"breakfast cereal dinner lunch\".split())"
   ]
  },
  {
   "cell_type": "code",
   "execution_count": 17,
   "id": "edb9f3d0",
   "metadata": {},
   "outputs": [
    {
     "data": {
      "text/plain": [
       "'france'"
      ]
     },
     "execution_count": 17,
     "metadata": {},
     "output_type": "execute_result"
    }
   ],
   "source": [
    "model.wv.doesnt_match(\"brazil chile france peru argentina\".split())"
   ]
  },
  {
   "cell_type": "code",
   "execution_count": 18,
   "id": "8682e2c5",
   "metadata": {},
   "outputs": [
    {
     "data": {
      "text/plain": [
       "'apple'"
      ]
     },
     "execution_count": 18,
     "metadata": {},
     "output_type": "execute_result"
    }
   ],
   "source": [
    "model.wv.doesnt_match(\"apple pear banana hammer\".split())"
   ]
  },
  {
   "cell_type": "markdown",
   "id": "3ec1e195",
   "metadata": {},
   "source": [
    "- Similaridad entre dos vectores"
   ]
  },
  {
   "cell_type": "code",
   "execution_count": 19,
   "id": "da39f2f3",
   "metadata": {},
   "outputs": [
    {
     "data": {
      "text/plain": [
       "0.30342865"
      ]
     },
     "execution_count": 19,
     "metadata": {},
     "output_type": "execute_result"
    }
   ],
   "source": [
    "model.wv.similarity('chile','france')"
   ]
  },
  {
   "cell_type": "code",
   "execution_count": 20,
   "id": "0973b188",
   "metadata": {},
   "outputs": [
    {
     "data": {
      "text/plain": [
       "0.6212489"
      ]
     },
     "execution_count": 20,
     "metadata": {},
     "output_type": "execute_result"
    }
   ],
   "source": [
    "model.wv.similarity('chile','argentina')"
   ]
  },
  {
   "cell_type": "code",
   "execution_count": 21,
   "id": "584f97fd",
   "metadata": {},
   "outputs": [
    {
     "data": {
      "text/plain": [
       "0.60744953"
      ]
     },
     "execution_count": 21,
     "metadata": {},
     "output_type": "execute_result"
    }
   ],
   "source": [
    "model.wv.similarity('belgium','france')"
   ]
  },
  {
   "cell_type": "code",
   "execution_count": 22,
   "id": "e1c65145",
   "metadata": {},
   "outputs": [
    {
     "data": {
      "text/plain": [
       "0.18376122"
      ]
     },
     "execution_count": 22,
     "metadata": {},
     "output_type": "execute_result"
    }
   ],
   "source": [
    "model.wv.similarity('belgium','chile')"
   ]
  },
  {
   "cell_type": "code",
   "execution_count": 23,
   "id": "e73f832a",
   "metadata": {},
   "outputs": [
    {
     "data": {
      "text/plain": [
       "0.10001469"
      ]
     },
     "execution_count": 23,
     "metadata": {},
     "output_type": "execute_result"
    }
   ],
   "source": [
    "model.wv.similarity('man','engineer')"
   ]
  },
  {
   "cell_type": "code",
   "execution_count": 24,
   "id": "acc20905",
   "metadata": {},
   "outputs": [
    {
     "data": {
      "text/plain": [
       "0.0524887"
      ]
     },
     "execution_count": 24,
     "metadata": {},
     "output_type": "execute_result"
    }
   ],
   "source": [
    "model.wv.similarity('woman','engineer')"
   ]
  },
  {
   "cell_type": "code",
   "execution_count": 25,
   "id": "abe6f7df",
   "metadata": {},
   "outputs": [
    {
     "data": {
      "text/plain": [
       "0.06323543"
      ]
     },
     "execution_count": 25,
     "metadata": {},
     "output_type": "execute_result"
    }
   ],
   "source": [
    "model.wv.similarity('man','power')"
   ]
  },
  {
   "cell_type": "code",
   "execution_count": 26,
   "id": "8c892ed5",
   "metadata": {},
   "outputs": [
    {
     "data": {
      "text/plain": [
       "-0.032200478"
      ]
     },
     "execution_count": 26,
     "metadata": {},
     "output_type": "execute_result"
    }
   ],
   "source": [
    "model.wv.similarity('woman','power')"
   ]
  },
  {
   "cell_type": "markdown",
   "id": "e37090b8",
   "metadata": {},
   "source": [
    "## Cargar un modelo Word2Vec pre-entrenado para el español\n",
    "\n",
    "ver: https://github.com/dccuchile/spanish-word-embeddings"
   ]
  },
  {
   "cell_type": "code",
   "execution_count": 27,
   "id": "6a5f11a6",
   "metadata": {},
   "outputs": [],
   "source": [
    "from gensim.models import KeyedVectors\n",
    "\n",
    "model = KeyedVectors.load_word2vec_format('./SBW-vectors-300-min5.bin.gz', binary=True)"
   ]
  },
  {
   "cell_type": "code",
   "execution_count": 28,
   "id": "1ef7747b",
   "metadata": {},
   "outputs": [
    {
     "name": "stdout",
     "output_type": "stream",
     "text": [
      "(300,)\n",
      "[ 0.1051706  -0.27460352 -0.21322592  0.261666    0.09946854 -0.02449877\n",
      "  0.12955804 -0.34066245  0.3385692  -0.09923615]\n"
     ]
    }
   ],
   "source": [
    "dog = model['perro']\n",
    "print(dog.shape)\n",
    "print(dog[:10])"
   ]
  },
  {
   "cell_type": "code",
   "execution_count": 34,
   "id": "f3b56eda-c579-440a-9ae9-1baf49e63ed7",
   "metadata": {},
   "outputs": [
    {
     "data": {
      "text/plain": [
       "0.32905576"
      ]
     },
     "execution_count": 34,
     "metadata": {},
     "output_type": "execute_result"
    }
   ],
   "source": [
    "model.similarity('mujer','poder')"
   ]
  },
  {
   "cell_type": "code",
   "execution_count": 35,
   "id": "12672ef4-a476-48bc-9ef9-2ee98b7e8676",
   "metadata": {},
   "outputs": [
    {
     "data": {
      "text/plain": [
       "0.33151585"
      ]
     },
     "execution_count": 35,
     "metadata": {},
     "output_type": "execute_result"
    }
   ],
   "source": [
    "model.similarity('hombre','poder')"
   ]
  },
  {
   "cell_type": "markdown",
   "id": "4a82543f",
   "metadata": {},
   "source": [
    "## ¿Cómo aprender vectores de palabras para el español?"
   ]
  },
  {
   "cell_type": "code",
   "execution_count": 36,
   "id": "b69582ea",
   "metadata": {},
   "outputs": [],
   "source": [
    "import pandas as pd\n",
    "from gensim.models import word2vec\n",
    "from tqdm import tqdm, trange"
   ]
  },
  {
   "cell_type": "code",
   "execution_count": 60,
   "id": "24dbd340",
   "metadata": {},
   "outputs": [],
   "source": [
    "import spacy\n",
    "\n",
    "nlp = spacy.load('es_core_news_sm')\n",
    "spacy_stopwords = spacy.lang.es.stop_words.STOP_WORDS"
   ]
  },
  {
   "cell_type": "code",
   "execution_count": 72,
   "id": "aabc3acf",
   "metadata": {},
   "outputs": [
    {
     "data": {
      "text/html": [
       "<div>\n",
       "<style scoped>\n",
       "    .dataframe tbody tr th:only-of-type {\n",
       "        vertical-align: middle;\n",
       "    }\n",
       "\n",
       "    .dataframe tbody tr th {\n",
       "        vertical-align: top;\n",
       "    }\n",
       "\n",
       "    .dataframe thead th {\n",
       "        text-align: right;\n",
       "    }\n",
       "</style>\n",
       "<table border=\"1\" class=\"dataframe\">\n",
       "  <thead>\n",
       "    <tr style=\"text-align: right;\">\n",
       "      <th></th>\n",
       "      <th>Unnamed: 0</th>\n",
       "      <th>id_news</th>\n",
       "      <th>country</th>\n",
       "      <th>media_outlet</th>\n",
       "      <th>url</th>\n",
       "      <th>title</th>\n",
       "      <th>text</th>\n",
       "      <th>date</th>\n",
       "      <th>search</th>\n",
       "    </tr>\n",
       "  </thead>\n",
       "  <tbody>\n",
       "    <tr>\n",
       "      <th>0</th>\n",
       "      <td>0</td>\n",
       "      <td>6232073.0</td>\n",
       "      <td>chile</td>\n",
       "      <td>latercera</td>\n",
       "      <td>https://www.latercera.com/tendencias/noticia/c...</td>\n",
       "      <td>César Fredes: \"No como con el entusiasmo de an...</td>\n",
       "      <td>César Fredes (73) ejerció el periodismo políti...</td>\n",
       "      <td>2019-02-15</td>\n",
       "      <td>NaN</td>\n",
       "    </tr>\n",
       "    <tr>\n",
       "      <th>1</th>\n",
       "      <td>1</td>\n",
       "      <td>6232276.0</td>\n",
       "      <td>chile</td>\n",
       "      <td>latercera</td>\n",
       "      <td>https://www.latercera.com/tendencias/noticia/p...</td>\n",
       "      <td>Cómo un piercing en la nariz acabó dejando par...</td>\n",
       "      <td>Con apenas 20 años, iba a atravesar lo que ell...</td>\n",
       "      <td>2019-02-13</td>\n",
       "      <td>NaN</td>\n",
       "    </tr>\n",
       "    <tr>\n",
       "      <th>2</th>\n",
       "      <td>2</td>\n",
       "      <td>6232311.0</td>\n",
       "      <td>chile</td>\n",
       "      <td>latercera</td>\n",
       "      <td>https://www.latercera.com/tendencias/noticia/c...</td>\n",
       "      <td>China espera enviar más de 50 naves al espacio...</td>\n",
       "      <td>China enviará al cosmos más de 50 naves espaci...</td>\n",
       "      <td>2019-01-30</td>\n",
       "      <td>NaN</td>\n",
       "    </tr>\n",
       "    <tr>\n",
       "      <th>3</th>\n",
       "      <td>3</td>\n",
       "      <td>6236624.0</td>\n",
       "      <td>chile</td>\n",
       "      <td>latercera</td>\n",
       "      <td>https://www.latercera.com/tendencias/noticia/s...</td>\n",
       "      <td>Sonda china logra el primer alunizaje de la hi...</td>\n",
       "      <td>La sonda china Chang'e 4 alunizó hoy con éxito...</td>\n",
       "      <td>2019-01-03</td>\n",
       "      <td>NaN</td>\n",
       "    </tr>\n",
       "    <tr>\n",
       "      <th>4</th>\n",
       "      <td>4</td>\n",
       "      <td>6236728.0</td>\n",
       "      <td>chile</td>\n",
       "      <td>latercera</td>\n",
       "      <td>https://www.latercera.com/tendencias/noticia/l...</td>\n",
       "      <td>Las razones científicas que explican por qué a...</td>\n",
       "      <td>Nos gusta pensar que haríamos lo correcto en u...</td>\n",
       "      <td>2019-01-02</td>\n",
       "      <td>NaN</td>\n",
       "    </tr>\n",
       "    <tr>\n",
       "      <th>...</th>\n",
       "      <td>...</td>\n",
       "      <td>...</td>\n",
       "      <td>...</td>\n",
       "      <td>...</td>\n",
       "      <td>...</td>\n",
       "      <td>...</td>\n",
       "      <td>...</td>\n",
       "      <td>...</td>\n",
       "      <td>...</td>\n",
       "    </tr>\n",
       "    <tr>\n",
       "      <th>9995</th>\n",
       "      <td>9995</td>\n",
       "      <td>7272103.0</td>\n",
       "      <td>chile</td>\n",
       "      <td>latercera</td>\n",
       "      <td>https://www.latercera.com/mouse/pizza-kilo-que...</td>\n",
       "      <td>Un kilo de queso en la nueva pizza \"tipo Nueva...</td>\n",
       "      <td>Bajo la promesa de replicar la experiencia est...</td>\n",
       "      <td>2019-06-12</td>\n",
       "      <td>NaN</td>\n",
       "    </tr>\n",
       "    <tr>\n",
       "      <th>9996</th>\n",
       "      <td>9996</td>\n",
       "      <td>7273138.0</td>\n",
       "      <td>chile</td>\n",
       "      <td>latercera</td>\n",
       "      <td>https://www.latercera.com/mouse/google-maps-al...</td>\n",
       "      <td>Google Maps quiere avisarte si tu taxi se desv...</td>\n",
       "      <td>Google estaría probando una nueva función para...</td>\n",
       "      <td>2019-06-10</td>\n",
       "      <td>NaN</td>\n",
       "    </tr>\n",
       "    <tr>\n",
       "      <th>9997</th>\n",
       "      <td>9997</td>\n",
       "      <td>7273173.0</td>\n",
       "      <td>chile</td>\n",
       "      <td>latercera</td>\n",
       "      <td>https://www.latercera.com/mouse/mozilla-firefo...</td>\n",
       "      <td>Mozilla lanzaría una versión pagada de Firefox</td>\n",
       "      <td>Pronto un nuevo producto premium se podría aña...</td>\n",
       "      <td>2019-06-10</td>\n",
       "      <td>NaN</td>\n",
       "    </tr>\n",
       "    <tr>\n",
       "      <th>9998</th>\n",
       "      <td>9998</td>\n",
       "      <td>7273175.0</td>\n",
       "      <td>chile</td>\n",
       "      <td>latercera</td>\n",
       "      <td>https://www.latercera.com/mouse/deepfake-herra...</td>\n",
       "      <td>Con esta herramienta deepfake solo debes escri...</td>\n",
       "      <td>La tecnología de los deepfakes nos sigue sorpr...</td>\n",
       "      <td>2019-06-10</td>\n",
       "      <td>NaN</td>\n",
       "    </tr>\n",
       "    <tr>\n",
       "      <th>9999</th>\n",
       "      <td>9999</td>\n",
       "      <td>7273186.0</td>\n",
       "      <td>chile</td>\n",
       "      <td>latercera</td>\n",
       "      <td>https://www.latercera.com/mouse/e3-2019-400-mi...</td>\n",
       "      <td>E3 2019: Más de 400 mil piezas de Lego se util...</td>\n",
       "      <td>En el marco de la presentación de Microsoft en...</td>\n",
       "      <td>2019-06-10</td>\n",
       "      <td>NaN</td>\n",
       "    </tr>\n",
       "  </tbody>\n",
       "</table>\n",
       "<p>10000 rows × 9 columns</p>\n",
       "</div>"
      ],
      "text/plain": [
       "      Unnamed: 0    id_news country media_outlet  \\\n",
       "0              0  6232073.0   chile    latercera   \n",
       "1              1  6232276.0   chile    latercera   \n",
       "2              2  6232311.0   chile    latercera   \n",
       "3              3  6236624.0   chile    latercera   \n",
       "4              4  6236728.0   chile    latercera   \n",
       "...          ...        ...     ...          ...   \n",
       "9995        9995  7272103.0   chile    latercera   \n",
       "9996        9996  7273138.0   chile    latercera   \n",
       "9997        9997  7273173.0   chile    latercera   \n",
       "9998        9998  7273175.0   chile    latercera   \n",
       "9999        9999  7273186.0   chile    latercera   \n",
       "\n",
       "                                                    url  \\\n",
       "0     https://www.latercera.com/tendencias/noticia/c...   \n",
       "1     https://www.latercera.com/tendencias/noticia/p...   \n",
       "2     https://www.latercera.com/tendencias/noticia/c...   \n",
       "3     https://www.latercera.com/tendencias/noticia/s...   \n",
       "4     https://www.latercera.com/tendencias/noticia/l...   \n",
       "...                                                 ...   \n",
       "9995  https://www.latercera.com/mouse/pizza-kilo-que...   \n",
       "9996  https://www.latercera.com/mouse/google-maps-al...   \n",
       "9997  https://www.latercera.com/mouse/mozilla-firefo...   \n",
       "9998  https://www.latercera.com/mouse/deepfake-herra...   \n",
       "9999  https://www.latercera.com/mouse/e3-2019-400-mi...   \n",
       "\n",
       "                                                  title  \\\n",
       "0     César Fredes: \"No como con el entusiasmo de an...   \n",
       "1     Cómo un piercing en la nariz acabó dejando par...   \n",
       "2     China espera enviar más de 50 naves al espacio...   \n",
       "3     Sonda china logra el primer alunizaje de la hi...   \n",
       "4     Las razones científicas que explican por qué a...   \n",
       "...                                                 ...   \n",
       "9995  Un kilo de queso en la nueva pizza \"tipo Nueva...   \n",
       "9996  Google Maps quiere avisarte si tu taxi se desv...   \n",
       "9997     Mozilla lanzaría una versión pagada de Firefox   \n",
       "9998  Con esta herramienta deepfake solo debes escri...   \n",
       "9999  E3 2019: Más de 400 mil piezas de Lego se util...   \n",
       "\n",
       "                                                   text        date  search  \n",
       "0     César Fredes (73) ejerció el periodismo políti...  2019-02-15     NaN  \n",
       "1     Con apenas 20 años, iba a atravesar lo que ell...  2019-02-13     NaN  \n",
       "2     China enviará al cosmos más de 50 naves espaci...  2019-01-30     NaN  \n",
       "3     La sonda china Chang'e 4 alunizó hoy con éxito...  2019-01-03     NaN  \n",
       "4     Nos gusta pensar que haríamos lo correcto en u...  2019-01-02     NaN  \n",
       "...                                                 ...         ...     ...  \n",
       "9995  Bajo la promesa de replicar la experiencia est...  2019-06-12     NaN  \n",
       "9996  Google estaría probando una nueva función para...  2019-06-10     NaN  \n",
       "9997  Pronto un nuevo producto premium se podría aña...  2019-06-10     NaN  \n",
       "9998  La tecnología de los deepfakes nos sigue sorpr...  2019-06-10     NaN  \n",
       "9999  En el marco de la presentación de Microsoft en...  2019-06-10     NaN  \n",
       "\n",
       "[10000 rows x 9 columns]"
      ]
     },
     "execution_count": 72,
     "metadata": {},
     "output_type": "execute_result"
    }
   ],
   "source": [
    "archivo = \"./dataset_latercera_2019.csv\"\n",
    "corpus = pd.read_csv(archivo)\n",
    "corpus"
   ]
  },
  {
   "cell_type": "code",
   "execution_count": 73,
   "id": "d57d295b",
   "metadata": {},
   "outputs": [],
   "source": [
    "noticias = corpus.text.values.tolist()"
   ]
  },
  {
   "cell_type": "code",
   "execution_count": 74,
   "id": "4957026d-ab72-4c79-909c-6bfb25e4c3d0",
   "metadata": {},
   "outputs": [
    {
     "data": {
      "text/plain": [
       "'\"Lo femenino hoy es el feminismo. Como dice la superventas nigeriana Chimamanda Ngozi Adiche, todos debiéramos ser feministas. Entender y defender que las mujeres tenemos un rol relevante en el mundo privado y en el público. Que podemos estar en las ciencias, en las matemáticas o desarrollar trabajos que requieren de destrezas físicas o intelectuales. Que no hay campos vedados. -¿Qué elementos constituyen lo femenino? -No hay espacios naturalmente femeninos o masculinos. Es la cultura la que nos machaca desde que nacemos que hay un quehacer para los hombres y otro para las mujeres. Que una mujer \"femenina\" es dulce, suave, trata de agradar y de verse linda para los hombres. Lo femenino es reconocerte en lo que eres y mostrar eso sin tapujos ni vergüenza. -¿Qué es lo fundamental de lo femenino que la lucha feminista nunca debe olvidar en sus demandas? -Que somos el 52 por ciento de los habitantes humanos de la Tierra, que mientras más arriba llegas en las instituciones y corporaciones tradicionales que dominan la vida política, económica, social, menos mujeres hay, y que además nos pagan menos. Lo femenino es reconocer y visibilizar las diferencias que han sido naturalizadas. -¿Cuáles son las preguntas que lo femenino impone hoy? -Cómo se va a organizar la sociedad para que la crianza de los niños y el cuidado de los viejos y de los enfermos sea tarea compartida. Qué políticas públicas, qué incentivos, hay que generar para que eso sea realidad. -¿Cómo se logra el cambio cultural que se requiere para incorporar lo femenino a las estructuras de decisión y poder? -Impulsando que hombres y mujeres feministas lleguen a los puestos más altos del poder y generen las transformaciones que se requieren. Y que esas transformaciones estén reflejadas en la Constitución y en las leyes. Si no, todo puede volver atrás. -¿Cómo se relacionan lo femenino y lo masculino? ¿Antagónicos, complementarios? - Hombres y mujeres somos biólogicamente distintos, pero los cánones culturales se han encargado históricamente de exagerar las diferencias. Hay rangos de feminidad y masculinidad en cada uno de nosotros. Y la forma en que eso se expresa es particular a cada ser humano. -A tu juicio, ¿qué mujer concreta encarna hoy lo femenino? - Las chicas que hace casi un año salieron a las calles y se tomaron sus escuelas y universidades para decir NO MÁS. No más abusos, no más educación sexista, no más discriminación. -¿Cómo se entiende lo femenino en el mundo en el que trabajas? -El mundo creativo y audiovisual, como todos, ha estado dominado por los hombres. Ellos destacan. Ellas en las sombras. Viene un cambio. Será lento. -Mirando el futuro, ¿hacia dónde va o debe enfocarse lo femenino? -Hacia la igualdad de derechos y oportunidades. Hacia la inclusión de la mujer, de los ancianos, de las personas con habilidades diferentes o con dificultades. Entender que lo normal es la diversidad. *María Elena Wood es documentalista y productora audiovisual. Para seguir leyendo el especial haga click\\xa0acá. Por favor, inicia sesión en La Tercera para acceder a los comentarios.'"
      ]
     },
     "execution_count": 74,
     "metadata": {},
     "output_type": "execute_result"
    }
   ],
   "source": [
    "noticias[48]"
   ]
  },
  {
   "cell_type": "code",
   "execution_count": 75,
   "id": "34bcc959",
   "metadata": {},
   "outputs": [
    {
     "name": "stderr",
     "output_type": "stream",
     "text": [
      "Procesando noticias: 100%|████████████████| 10000/10000 [05:39<00:00, 29.45it/s]\n"
     ]
    }
   ],
   "source": [
    "from tqdm import tqdm\n",
    "\n",
    "sentences = []\n",
    "\n",
    "for noticia in tqdm(noticias, desc=\"Procesando noticias\"):\n",
    "    try:\n",
    "        doc = nlp(noticia)\n",
    "        \n",
    "        sentence = []\n",
    "        for token in doc:\n",
    "            if (str(token.pos_) != \"SPACE\" and str(token.pos_) != \"PUNCT\"):\n",
    "                sentence.append(token.text.lower())\n",
    "        sentences.append(sentence)\n",
    "    except Exception:\n",
    "        pass  # Ignorar la excepción y continuar con la siguiente iteración\n"
   ]
  },
  {
   "cell_type": "code",
   "execution_count": 77,
   "id": "1d8b0115",
   "metadata": {},
   "outputs": [
    {
     "name": "stdout",
     "output_type": "stream",
     "text": [
      "['césar', 'fredes', '73', 'ejerció', 'el', 'periodismo', 'político', '-además', 'de', 'algunos', 'coqueteos', 'con', 'el', 'deportivo-', 'hasta', 'que', 'tras', 'el', 'golpe', 'de', '1973', 'partió', 'al', 'exilio', 'a', 'venezuela', 'allá', 'se', 'reunió', 'con', 'sus', 'dos', 'hijos', 'que', 'habían', 'nacido', 'del', 'matrimonio', 'con', 'su', 'mujer', 'de', 'entonces', 'maría', 'angélica', 'álvarez', 'la', 'jupi', 'exasesora', 'cercana', 'de', 'bachelet', 'en', 'caracas', 'derivó', 'en', 'el', 'periodismo', 'gastronómico', 'aprovechando', 'las', 'bondades', 'de', 'esa', 'ciudad', 'que', 'por', 'aquellos', 'años', 'albergaba', 'finísimos', 'restaurantes', 'de', 'cocinas', 'de', 'todas', 'partes', 'del', 'mundo', 'de', 'vuelta', 'en', 'chile', 'en', '1991', 'comenzó', 'un', 'largo', 'periplo', '-siempre', 'como', 'crítico', 'gastronómico-', 'por', 'medios', 'de', 'prensa', 'en', 'paralelo', 'fundó', 'la', 'vinoteca', 'exitoso', 'negocio', 'que', 'luego', 'pasó', 'a', 'manos', 'de', 'su', 'hijo', 'mauricio', 'y', 'a', 'comienzos', 'de', 'la', 'década', 'pasada', 'hasta', 'apareció', 'en', 'programas', 'del', 'canal', 'de', 'cable', 'argentino', 'el', 'gourmet', 'desde', 'hace', 'unos', 'años', 'se', 'mantiene', 'alejado', 'de', 'los', 'medios', 'aunque', 'eso', 'no', 'impide', 'que', 'de', 'tanto', 'en', 'tanto', 'aparezca', 'como', 'entrevistado', 'con', 'contundentes', 'declaraciones', 'sobre', 'chefs', 'y', 'restaurantes', 'que', 'terminan', 'como', 'titulares', 'más', 'de', 'una', 'vez', 'ha', 'dicho', 'que', 'no', 'le', 'gusta', 'lo', 'que', 'hace', 'rodolfo', 'guzmán', 'en', 'boragó', 'esta', 'vez', 'se', 'limita', 'a', 'explicar', 'que', 'no', 'tengo', 'nada', 'contra', 'guzmán', 'sólo', 'es', 'un', 'tema', 'profesional', 'sentados', 'en', 'un', 'café', 'de', 'providencia', 'conversamos', 'en', 'una', 'tarde', 'calurosa', '-¿es', 'un', 'crítico', 'en', 'retiro', 'o', 'simplemente', 'en', 'receso', '-no', 'sé', 'en', 'realidad', 'soy', 'periodista', 'más', 'que', 'cualquier', 'otra', 'cosa', 'he', 'ejercido', 'varias', 'especialidades', 'del', 'periodismo', 'y', 'a', 'la', 'gastronomía', 'llegué', 'simplemente', 'porque', 'me', 'gusta', 'y', 'es', 'una', 'afición', 'que', 'venía', 'de', 'cuando', 'era', 'cabro', 'chico', 'y', 'comía', 'rico', '-¿no', 'le', 'gusta', 'que', 'lo', 'cataloguen', 'como', 'un', 'crítico', 'o', 'periodista', 'en', 'retiro', '-no', 'porque', 'de', 'repente', 'uno', 'saca', 'la', 'cabeza', 've', 'algo', 'de', 'lo', 'que', 'quiere', 'hablar', 'y', 'se', 'lanza', 'con', 'una', 'columna', '-ya', 'que', 'no', 'está', 'a', 'tiempo', 'completo', 'en', 'la', 'crítica', 'gastronómica', 'qué', 'pasa', 'a', 'la', 'hora', 'de', 'comer', 'se', 'pone', 'menos', 'exigente', '-no', 'porque', 'los', 'gustos', 'y', 'los', 'puntos', 'de', 'vista', 'uno', 'ya', 'los', 'tiene', 'uno', 'aprendió', 'lo', 'que', 'aprendió', 'y', 'le', 'gusta', 'lo', 'que', 'le', 'gusta', 'así', 'que', 'la', 'disposición', 'crítica', 'frente', 'a', 'la', 'comida', 'permanece', 'nunca', 'se', 'relaja', 'pasando', 'rabias', 'cuando', 'sale', 'a', 'comer', '-no', 'salvo', 'que', 'esté', 'trabajando', 'me', 'lo', 'tomo', 'con', 'calma', 'me', 'guardo', 'los', 'malos', 'comentarios', 'para', 'mí', '-pero', 'entiendo', 'que', 'pasó', 'muchas', 'rabias', 'al', 'visitar', 'restaurantes', '-no', 'me', 'acuerdo', 'o', 'la', 'verdad', 'no', 'me', 'quiero', 'acordar', 'jajaja', 'hace', 'varios', 'años', 'me', 'lo', 'tomo', 'con', 'soda', 'todo', 'la', 'vida', 'y', 'lo', 'que', 'era', 'el', 'trabajo', 'como', 'dicen', 'por', 'ahí', 'vengo', 'de', 'vuelta', '-¿me', 'va', 'a', 'decir', 'entonces', 'que', 'no', 'peleó', 'en', 'sus', 'años', 'de', 'críticas', 'semanales', 'a', 'restaurantes', '-algo', 'de', 'eso', 'hubo', 'pero', 'no', 'fue', 'para', 'tanto', 'se', 'creó', 'un', 'mito', 'en', 'torno', 'a', 'mí', 'porque', 'tengo', 'más', 'fama', 'de', 'pesado', 'de', 'lo', 'que', 'en', 'realidad', 'soy', 'pero', 'claro', 'hubo', 'momentos', 'en', 'que', 'uno', 'escribía', 'algo', 'y', 'la', 'gente', 'se', 'podía', 'sentir', 'pero', 'todo', 'era', 'en', 'un', 'ámbito', 'profesional', 'que', 'no', 'pasaba', 'a', 'mayores', 'además', 'no', 'hay', 'que', 'tomarse', 'tan', 'en', 'serio', 'la', 'gastronomía', 'porque', 'no', 'es', 'un', 'asunto', 'de', 'vida', 'o', 'muerte', '-¿la', 'crítica', 'gastronómica', 'fue', 'lo', 'que', 'más', 'disfrutó', 'en', 'el', 'periodismo', 'pero', 'el', 'periodismo', 'político', 'también', 'porque', 'era', 'un', 'tema', 'que', 'me', 'interesaba', 'mucho', 'y', 'que', 'sobre', 'todo', 'a', 'inicios', 'de', 'los', '70', 'tenía', 'una', 'relevancia', 'impresionante', 'en', 'chile', 'estuvo', 'frei', 'vino', 'allende', 'después', 'el', 'golpe', 'en', 'todo', 'ese', 'proceso', 'yo', 'estuve', 'en', 'el', 'periodismo', 'político', 'entre', 'el', 'diario', 'la', 'nación', 'y', 'la', 'radio', 'cooperativa', '-pero', 'la', 'crítica', 'gastronómica', 'también', 'tiene', 'sus', 'riesgos', 'no', '-jajaja', 'sí', 'el', 'principal', 'problema', 'es', 'que', 'nos', 'crece', 'esto', 'se', 'toma', 'el', 'abdomen', 'con', 'ambas', 'manos', 'tú', 'estás', 'gordito', 'hay', 'que', 'ver', 'eso', '-sí', 'ya', 'me', 'tienen', 'haciéndome', 'exámenes', 'y', 'usted', '-está', 'bien', 'eso', 'hay', 'que', 'cuidarse', 'uno', 'aprende', 'con', 'el', 'tiempo', 'lamentablemente', 'algunas', 'veces', 'uno', 'se', 'demora', 'mucho', 'en', 'aprender', 'yo', 'bajé', 'de', 'peso', 'unos', 'diez', 'o', 'doce', 'kilos', 'hace', 'un', 'tiempo', 'y', 'no', 'los', 'volví', 'a', 'recuperar', 'con', 'el', 'tiempo', 'uno', 'va', 'llevando', 'los', 'kilos', 'con', 'mucha', 'más', 'facilidad', 'además', 'me', 'ha', 'venido', 'pasando', 'algo', '-¿qué', 'cosa', 'con', 'el', 'tiempo', 'uno', 'va', 'perdiendo', 'el', 'hambre', 'yo', 'nunca', 'tengo', 'hambre', 'ahora', 'me', 'mantengo', 'con', 'un', 'muy', 'buen', 'desayuno', 'y', 'poco', 'más', 'y', 'si', 'sé', 'que', 'voy', 'a', 'salir', 'a', 'comer', 'algo', 'como', 'menos', 'por', 'la', 'mañana', 'para', 'tener', 'apetito', 'más', 'tarde', 'es', 'que', 'no', 'como', 'con', 'el', 'entusiasmo', 'de', 'antes', 'ni', 'me', 'bajan', 'unas', 'ganas', 'locas', 'por', 'ir', 'a', 'comerme', 'una', 'parrillada', '-un', 'crítico', 'gastronómico', 'sin', 'hambre', 'cosa', 'curiosa', 'no', 'le', 'podría', 'jugar', 'en', 'contra', '-no', 'porque', 'primero', 'uno', 'sólo', 'come', 'si', 'quiere', 'y', 'nunca', 'sin', 'hambre', 'pero', 'probar', 'algo', 'por', 'motivos', 'profesionales', 'es', 'eso', 'probar', 'basta', 'un', 'par', 'de', 'bocados', 'para', 'hacerse', 'una', 'idea', 'eso', 'de', 'comérselo', 'o', 'tomárselo', 'todo', 'para', 'luego', 'hacer', 'una', 'crítica', 'no', 'tiene', 'ningún', 'sentido', '-¿pero', 'pasa', '-supongo', 'me', 'acuerdo', 'de', 'un', 'colega', 'hace', 'años', 'que', 'era', 'tan', 'bueno', 'para', 'el', 'pencazo', 'que', 'en', 'medio', 'de', 'un', 'almuerzo', 'le', 'preguntaba', 'a', 'su', 'compañero', 'de', 'mesa', 'en', 'qué', 'restaurante', 'estaba', 'jajaja', 'favoritos', '-volvamos', 'al', 'tiempo', 'en', 'que', 'tenía', 'más', 'apetito', 'había', 'o', 'hay', 'algo', 'que', 'le', 'guste', 'mucho', 'por', 'sobre', 'otras', 'cosas', '-el', 'chancho', 'en', 'todas', 'sus', 'preparaciones', 'lo', 'como', 'con', 'gusto', 'hasta', 'hoy', 'y', 'si', 'tengo', 'que', 'elegir', 'un', 'tipo', 'de', 'comida', 'me', 'quedo', 'con', 'la', 'comida', 'chilena', 'tradicional', 'y', 'hablando', 'de', 'cosas', 'chilenas', 'para', 'mí', 'el', 'mejor', 'sánguche', 'del', 'mundo', 'sigue', 'siendo', 'el', 'lomito', 'de', 'la', 'fuente', 'alemana', 'otros', 'restaurantes', 'le', 'gusta', 'visitar', '-salgo', 'mucho', 'menos', 'que', 'antes', 'y', 'me', 'muevo', 'menos', 'por', 'lo', 'general', 'circulo', 'por', 'providencia', 'por', 'ahí', 'me', 'como', 'un', 'barros', 'luco', 'en', 'el', \"lomit's\", 'y', 'de', 'vez', 'en', 'cuando', 'como', 'en', 'el', 'liguria', 'que', 'tiene', 'una', 'cocina', 'sin', 'tantas', 'pretensiones', 'pero', 'muy', 'buena', 'pero', 'donde', 'más', 'voy', 'y', 'me', 'instalo', 'es', 'en', 'el', 'baco', 'porque', 'se', 'come', 'espectacular', 'y', 'es', 'muy', 'agradable', '-tanto', 'va', 'que', 'hasta', 'tiene', 'un', 'plato', 'de', 'lentejas', 'con', 'su', 'nombre', '-\"dón', 'césar\"-', 'en', 'la', 'carta', '-sí', 'jajaja', 'me', 'encantan', 'las', 'lentejas', '-funciona', 'como', 'reloj', 'ese', 'restaurante', 'la', 'calidad', 'de', 'los', 'platos', 'es', 'siempre', 'la', 'misma', 'tienen', 'altos', 'estándares', 'de', 'servicio', 'y', 'están', 'atentos', 'al', 'mínimo', 'detalle', 'y', 'eso', 'se', 'da', 'porque', 'frederick', 'le', 'baux', 'el', 'dueño', 'es', 'muy', 'inteligente', 'y', 'muy', 'trabajador', 'llega', 'a', 'ser', 'obsesivo', 'con', 'el', 'tema', 'está', 'siempre', 'ahí', 'en', 'el', 'local', 'y', 'así', 'es', 'como', 'funcionan', 'los', 'restaurantes', 'con', 'los', 'dueños', 'o', 'cocineros', 'metidos', 'en', 'el', 'boliche', 'y', 'que', 'saben', 'sobre', 'el', 'negocio', 'también', 'otro', 'local', 'regalón', '-pucha', 'es', 'que', 'con', 'tan', 'poca', 'hambre', 'he', 'bajado', 'las', 'tentaciones', 'pero', 'de', 'repente', 'me', 'arranco', 'a', 'le', 'bistrot', 'está', 'al', 'frente', 'del', 'baco', 'así', 'que', 'paso', 'agachadito', 'para', 'que', 'no', 'me', 'vea', 'frederick', 'es', 'más', 'artesanal', 'y', 'más', 'cálido', 'que', 'baco', 'gäetan', 'eonet', 'chef', 'y', 'dueño', 'está', 'siempre', 'en', 'la', 'cocina', '-¿está', 'al', 'tanto', 'de', 'la', 'actualidad', 'gastronómica', 'sigue', 'a', 'columnistas', 'lee', 'sobre', 'los', 'boliches', 'que', 'abren', 'y', 'los', 'que', 'cierran', '-sí', 'leo', 'todo', 'pero', 'no', 'ha', 'aparecido', 'nada', 'en', 'el', 'último', 'tiempo', 'que', 'a', 'uno', 'lo', 'sorprenda', 'hay', 'un', 'continuo', 'abrir', 'y', 'cerrar', 'de', 'restaurantes', 'muchos', 'inversionistas', 'metidos', 'al', 'medio', 'venidos', 'de', 'otros', 'rubros', 'y', 'que', 'se', 'terminan', 'cabreando', 'porque', 'no', 'hay', 'el', 'retorno', 'que', 'esperaban', 'nos', 'llenamos', 'de', 'restaurantes', 'intrascendentes', 'por', 'no', 'decir', 'malos', 'y', 'al', 'final', 'pasan', 'dos', 'cosas', 'primero', 'que', 'el', 'gran', 'negocio', 'es', 'de', 'los', 'inmobiliarios', 'que', 'arriendan', 'las', 'propiedades', 'para', 'restaurantes', 'y', 'siempre', 'tienen', 'ingresos', 'y', 'segundo', 'que', 'pucha', 'que', 'cuesta', 'que', 'la', 'gente', 'entienda', 'que', 'el', 'negocio', 'de', 'los', 'restaurantes', 'no', 'es', 'una', 'vía', 'para', 'hacerse', 'millonario', 'uno', 'que', 'otro', 'le', 'podrá', 'dar', 'el', 'palo', 'al', 'gato', 'pero', 'en', 'general', 'se', 'trata', 'de', 'una', 'actividad', 'con', 'hartos', 'sacrificios', 'que', 'si', 'se', 'sabe', 'manejar', 'puede', 'permitir', 'vivir', 'tranquilo', 'pero', 'no', 'más', 'que', 'eso', '-si', 'uno', 'se', 'guía', 'por', 'el', 'periodismo', 'gastronómico', 'da', 'la', 'impresión', 'que', 'sólo', 'existe', 'nueva', 'costanera', 'en', 'santiago', 'o', 'que', 'a', 'los', 'hermanos', 'roca', 'los', 'conocen', 'en', 'todo', 'chile', 'pero', 'después', 'uno', 'conversa', 'con', 'dueños', 'de', 'restaurantes', 'y', 'te', 'confiesan', 'que', 'su', 'mejor', 'día', 'es', 'el', 'que', 'tienen', 'descuento', 'con', 'una', 'tarjeta', 'de', 'crédito', 'está', 'divorciado', 'el', 'periodismo', 'gastronómico', 'de', 'los', 'gustos', 'de', 'la', 'gente', '-hay', 'un', 'problema', 'de', 'precio', 'no', 'menor', 'o', 'viéndolo', 'de', 'otra', 'forma', 'la', 'gente', 'pone', 'al', 'precio', 'por', 'delante', 'de', 'otros', 'factores', 'como', 'la', 'calidad', 'de', 'la', 'comida', 'o', 'la', 'atención', 'entonces', 'sí', 'hay', 'un', 'pequeño', 'nicho', 'de', 'la', 'población', 'que', 'va', 'a', 'nueva', 'costanera', 'y', 'que', 'está', 'al', 'tanto', 'de', 'todo', 'pero', 'el', 'resto', 'se', 'rige', 'por', 'los', 'convenios', 'de', 'su', 'tarjeta', 'de', 'crédito', 'o', 'el', 'club', 'del', 'diario', 'además', 'siempre', 'se', 'trata', 'de', 'apuntar', 'a', 'la', 'clase', 'alta', 'como', 'potenciales', 'clientes', 'de', 'los', 'buenos', 'restaurantes', 'y', 'esa', 'gente', 'nunca', 'ha', 'comido', 'bien', 'en', 'chile', 'la', 'clase', 'media', 'informada', 'entre', 'tentaciones', 'y', 'endeudamiento', 'es', 'la', 'que', 'sale', 'a', 'comer', 'rico', 'y', 'termina', 'gastando', 'pero', 'lo', 'que', 'realmente', 'pasa', 'y', 'es', 'más', 'lamentable', 'es', 'que', 'la', 'crítica', 'ha', 'perdido', 'influencia', 'en', 'la', 'gente', '-¿por', 'qué', 'dice', 'eso', '-porque', 'aunque', 'hay', 'críticos', 'y', 'critica', 'en', 'los', 'medios', 'al', 'final', 'la', 'gente', 'se', 'guía', 'por', 'el', 'precio', 'para', 'salir', 'no', 'van', 'a', 'salir', 'en', 'masa', 'a', 'visitar', 'lugares', 'porque', 'un', 'crítico', 'se', 'los', 'recomendó', 'eso', 'ya', 'no', 'sea', 'da', '-¿y', 'por', 'qué', 'llegamos', 'a', 'esto', '-es', 'algo', 'que', 'escapa', 'al', 'periodismo', 'gastronómico', 'y', 'le', 'sucede', 'al', 'periodismo', 'en', 'general', 'los', 'periodistas', 'ya', 'no', 'son', 'importantes', 'en', 'todos', 'los', 'ámbitos', 'ése', 'es', 'el', 'problema', 'y', 'por', 'eso', 'no', 'se', 'influye', 'además', 'antes', 'había', 'más', 'tiempo', 'dedicación', 'y', 'recursos', 'para', 'seleccionar', 'a', 'la', 'gente', 'que', 'escribía', 'con', 'resultados', 'mejores', 'ahora', 'perdóneme', 'que', 'lo', 'diga', 'así', 'escribe', 'cualquiera', 'y', 'le', 'publican', 'a', 'cualquiera', '-o', 'sea', 'que', 'de', 'una', 'columna', 'de', 'ésas', 'que', 'mandaba', 'casi', 'a', 'la', 'quiebra', 'a', 'un', 'restaurante', 'ni', 'hablar', '-para', 'nada', 'y', 'más', 'que', 'eso', 'hace', 'meses', 'muchos', 'no', 'veo', 'una', 'columna', 'gastronómica', 'categórica', 'de', 'verdad', 'que', 'se', 'la', 'juegue', 'por', 'favor', 'inicia', 'sesión', 'en', 'la', 'tercera', 'para', 'acceder', 'a', 'los', 'comentarios']\n"
     ]
    }
   ],
   "source": [
    "print(sentences[0])"
   ]
  },
  {
   "cell_type": "code",
   "execution_count": 78,
   "id": "4a938d1e",
   "metadata": {},
   "outputs": [
    {
     "data": {
      "text/plain": [
       "10000"
      ]
     },
     "execution_count": 78,
     "metadata": {},
     "output_type": "execute_result"
    }
   ],
   "source": [
    "len(sentences)"
   ]
  },
  {
   "cell_type": "code",
   "execution_count": 79,
   "id": "0451ae28",
   "metadata": {},
   "outputs": [],
   "source": [
    "sentences_short = sentences[:100000]"
   ]
  },
  {
   "cell_type": "code",
   "execution_count": 80,
   "id": "68f317de",
   "metadata": {},
   "outputs": [],
   "source": [
    "model = word2vec.Word2Vec(sentences_short,vector_size=100,hs=1)"
   ]
  },
  {
   "cell_type": "code",
   "execution_count": 81,
   "id": "221716a2",
   "metadata": {},
   "outputs": [],
   "source": [
    "model.save(\"wordembedding_model_latercera_2019\")"
   ]
  },
  {
   "cell_type": "code",
   "execution_count": 84,
   "id": "47d654fc-1c67-4731-b8cc-7c5dd5e72750",
   "metadata": {},
   "outputs": [
    {
     "data": {
      "text/plain": [
       "-0.057466738"
      ]
     },
     "execution_count": 84,
     "metadata": {},
     "output_type": "execute_result"
    }
   ],
   "source": [
    "model.wv.similarity('mujer','poder')"
   ]
  },
  {
   "cell_type": "code",
   "execution_count": 85,
   "id": "e43f9dc3-3ac6-4c99-bc0b-6e91f99f04ad",
   "metadata": {},
   "outputs": [
    {
     "data": {
      "text/plain": [
       "0.14800084"
      ]
     },
     "execution_count": 85,
     "metadata": {},
     "output_type": "execute_result"
    }
   ],
   "source": [
    "model.wv.similarity('hombre','poder')"
   ]
  },
  {
   "cell_type": "code",
   "execution_count": null,
   "id": "bcb8ad93-3157-4d73-9c93-5735d842360b",
   "metadata": {},
   "outputs": [],
   "source": []
  }
 ],
 "metadata": {
  "kernelspec": {
   "display_name": "Python 3 (ipykernel)",
   "language": "python",
   "name": "python3"
  },
  "language_info": {
   "codemirror_mode": {
    "name": "ipython",
    "version": 3
   },
   "file_extension": ".py",
   "mimetype": "text/x-python",
   "name": "python",
   "nbconvert_exporter": "python",
   "pygments_lexer": "ipython3",
   "version": "3.10.12"
  }
 },
 "nbformat": 4,
 "nbformat_minor": 5
}
