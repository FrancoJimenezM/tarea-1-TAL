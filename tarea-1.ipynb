{
 "cells": [
  {
   "cell_type": "code",
   "execution_count": 5,
   "id": "ceb5788a",
   "metadata": {},
   "outputs": [
    {
     "name": "stderr",
     "output_type": "stream",
     "text": [
      "/tmp/ipykernel_29979/6574101.py:30: SettingWithCopyWarning: \n",
      "A value is trying to be set on a copy of a slice from a DataFrame.\n",
      "Try using .loc[row_indexer,col_indexer] = value instead\n",
      "\n",
      "See the caveats in the documentation: https://pandas.pydata.org/pandas-docs/stable/user_guide/indexing.html#returning-a-view-versus-a-copy\n",
      "  random_data['tag'] = filename.split('.')[0]\n",
      "/tmp/ipykernel_29979/6574101.py:30: SettingWithCopyWarning: \n",
      "A value is trying to be set on a copy of a slice from a DataFrame.\n",
      "Try using .loc[row_indexer,col_indexer] = value instead\n",
      "\n",
      "See the caveats in the documentation: https://pandas.pydata.org/pandas-docs/stable/user_guide/indexing.html#returning-a-view-versus-a-copy\n",
      "  random_data['tag'] = filename.split('.')[0]\n",
      "/tmp/ipykernel_29979/6574101.py:30: SettingWithCopyWarning: \n",
      "A value is trying to be set on a copy of a slice from a DataFrame.\n",
      "Try using .loc[row_indexer,col_indexer] = value instead\n",
      "\n",
      "See the caveats in the documentation: https://pandas.pydata.org/pandas-docs/stable/user_guide/indexing.html#returning-a-view-versus-a-copy\n",
      "  random_data['tag'] = filename.split('.')[0]\n",
      "/tmp/ipykernel_29979/6574101.py:30: SettingWithCopyWarning: \n",
      "A value is trying to be set on a copy of a slice from a DataFrame.\n",
      "Try using .loc[row_indexer,col_indexer] = value instead\n",
      "\n",
      "See the caveats in the documentation: https://pandas.pydata.org/pandas-docs/stable/user_guide/indexing.html#returning-a-view-versus-a-copy\n",
      "  random_data['tag'] = filename.split('.')[0]\n",
      "/tmp/ipykernel_29979/6574101.py:30: SettingWithCopyWarning: \n",
      "A value is trying to be set on a copy of a slice from a DataFrame.\n",
      "Try using .loc[row_indexer,col_indexer] = value instead\n",
      "\n",
      "See the caveats in the documentation: https://pandas.pydata.org/pandas-docs/stable/user_guide/indexing.html#returning-a-view-versus-a-copy\n",
      "  random_data['tag'] = filename.split('.')[0]\n",
      "/tmp/ipykernel_29979/6574101.py:30: SettingWithCopyWarning: \n",
      "A value is trying to be set on a copy of a slice from a DataFrame.\n",
      "Try using .loc[row_indexer,col_indexer] = value instead\n",
      "\n",
      "See the caveats in the documentation: https://pandas.pydata.org/pandas-docs/stable/user_guide/indexing.html#returning-a-view-versus-a-copy\n",
      "  random_data['tag'] = filename.split('.')[0]\n",
      "/tmp/ipykernel_29979/6574101.py:30: SettingWithCopyWarning: \n",
      "A value is trying to be set on a copy of a slice from a DataFrame.\n",
      "Try using .loc[row_indexer,col_indexer] = value instead\n",
      "\n",
      "See the caveats in the documentation: https://pandas.pydata.org/pandas-docs/stable/user_guide/indexing.html#returning-a-view-versus-a-copy\n",
      "  random_data['tag'] = filename.split('.')[0]\n",
      "/tmp/ipykernel_29979/6574101.py:30: SettingWithCopyWarning: \n",
      "A value is trying to be set on a copy of a slice from a DataFrame.\n",
      "Try using .loc[row_indexer,col_indexer] = value instead\n",
      "\n",
      "See the caveats in the documentation: https://pandas.pydata.org/pandas-docs/stable/user_guide/indexing.html#returning-a-view-versus-a-copy\n",
      "  random_data['tag'] = filename.split('.')[0]\n",
      "/tmp/ipykernel_29979/6574101.py:30: SettingWithCopyWarning: \n",
      "A value is trying to be set on a copy of a slice from a DataFrame.\n",
      "Try using .loc[row_indexer,col_indexer] = value instead\n",
      "\n",
      "See the caveats in the documentation: https://pandas.pydata.org/pandas-docs/stable/user_guide/indexing.html#returning-a-view-versus-a-copy\n",
      "  random_data['tag'] = filename.split('.')[0]\n",
      "/tmp/ipykernel_29979/6574101.py:30: SettingWithCopyWarning: \n",
      "A value is trying to be set on a copy of a slice from a DataFrame.\n",
      "Try using .loc[row_indexer,col_indexer] = value instead\n",
      "\n",
      "See the caveats in the documentation: https://pandas.pydata.org/pandas-docs/stable/user_guide/indexing.html#returning-a-view-versus-a-copy\n",
      "  random_data['tag'] = filename.split('.')[0]\n"
     ]
    },
    {
     "name": "stdout",
     "output_type": "stream",
     "text": [
      "Archivo trainee.csv creado con éxito.\n"
     ]
    },
    {
     "name": "stderr",
     "output_type": "stream",
     "text": [
      "/tmp/ipykernel_29979/6574101.py:30: SettingWithCopyWarning: \n",
      "A value is trying to be set on a copy of a slice from a DataFrame.\n",
      "Try using .loc[row_indexer,col_indexer] = value instead\n",
      "\n",
      "See the caveats in the documentation: https://pandas.pydata.org/pandas-docs/stable/user_guide/indexing.html#returning-a-view-versus-a-copy\n",
      "  random_data['tag'] = filename.split('.')[0]\n"
     ]
    }
   ],
   "source": [
    "import os\n",
    "import pandas as pd\n",
    "import random\n",
    "\n",
    "# Carpeta donde se encuentran los archivos CSV\n",
    "data_folder = 'datasets'\n",
    "\n",
    "# Número de datos aleatorios a seleccionar de cada archivo\n",
    "num_samples = 100\n",
    "\n",
    "# Crear un DataFrame vacío para almacenar los datos seleccionados\n",
    "trainee_df = pd.DataFrame(columns=['id_news', 'text', 'tag'])\n",
    "\n",
    "# Recorrer todos los archivos en la carpeta datasets\n",
    "for filename in os.listdir(data_folder):\n",
    "    if filename.endswith('.csv'):\n",
    "        file_path = os.path.join(data_folder, filename)\n",
    "        \n",
    "        # Leer el archivo CSV\n",
    "        data = pd.read_csv(file_path, usecols=['id_news', 'text'])\n",
    "        \n",
    "        # Seleccionar 100 datos aleatorios si hay suficientes\n",
    "        if len(data) > num_samples:\n",
    "            random_indices = random.sample(range(len(data)), num_samples)\n",
    "            random_data = data.iloc[random_indices]\n",
    "        else:\n",
    "            random_data = data\n",
    "        \n",
    "        # Agregar la columna 'tag' con el nombre del archivo\n",
    "        random_data['tag'] = filename.split('.')[0]\n",
    "        \n",
    "        # Agregar los datos seleccionados al DataFrame trainee_df\n",
    "        trainee_df = pd.concat([trainee_df, random_data], ignore_index=True)\n",
    "\n",
    "# Guardar el DataFrame resultante en un archivo CSV\n",
    "trainee_df.to_csv('trainee.csv', index=False, columns=['id_news', 'text', 'tag'])\n",
    "\n",
    "print(\"Archivo trainee.csv creado con éxito.\")"
   ]
  },
  {
   "cell_type": "code",
   "execution_count": 6,
   "id": "cb1b766f",
   "metadata": {},
   "outputs": [
    {
     "data": {
      "text/html": [
       "<h2>Resumen de Estadísticas Descriptivas:</h2>"
      ],
      "text/plain": [
       "<IPython.core.display.HTML object>"
      ]
     },
     "metadata": {},
     "output_type": "display_data"
    },
    {
     "data": {
      "text/html": [
       "<div>\n",
       "<style scoped>\n",
       "    .dataframe tbody tr th:only-of-type {\n",
       "        vertical-align: middle;\n",
       "    }\n",
       "\n",
       "    .dataframe tbody tr th {\n",
       "        vertical-align: top;\n",
       "    }\n",
       "\n",
       "    .dataframe thead th {\n",
       "        text-align: right;\n",
       "    }\n",
       "</style>\n",
       "<table border=\"1\" class=\"dataframe\">\n",
       "  <thead>\n",
       "    <tr style=\"text-align: right;\">\n",
       "      <th></th>\n",
       "      <th>id_news</th>\n",
       "      <th>text</th>\n",
       "      <th>tag</th>\n",
       "    </tr>\n",
       "  </thead>\n",
       "  <tbody>\n",
       "    <tr>\n",
       "      <th>count</th>\n",
       "      <td>1100</td>\n",
       "      <td>1100</td>\n",
       "      <td>1100</td>\n",
       "    </tr>\n",
       "    <tr>\n",
       "      <th>unique</th>\n",
       "      <td>1100</td>\n",
       "      <td>1098</td>\n",
       "      <td>11</td>\n",
       "    </tr>\n",
       "    <tr>\n",
       "      <th>top</th>\n",
       "      <td>51,137,383</td>\n",
       "      <td>Sin vida fue encontrado, la mañana de este lun...</td>\n",
       "      <td>politica</td>\n",
       "    </tr>\n",
       "    <tr>\n",
       "      <th>freq</th>\n",
       "      <td>1</td>\n",
       "      <td>2</td>\n",
       "      <td>100</td>\n",
       "    </tr>\n",
       "  </tbody>\n",
       "</table>\n",
       "</div>"
      ],
      "text/plain": [
       "           id_news                                               text  \\\n",
       "count         1100                                               1100   \n",
       "unique        1100                                               1098   \n",
       "top     51,137,383  Sin vida fue encontrado, la mañana de este lun...   \n",
       "freq             1                                                  2   \n",
       "\n",
       "             tag  \n",
       "count       1100  \n",
       "unique        11  \n",
       "top     politica  \n",
       "freq         100  "
      ]
     },
     "metadata": {},
     "output_type": "display_data"
    },
    {
     "data": {
      "text/html": [
       "<h2>Primeras Filas del DataFrame:</h2>"
      ],
      "text/plain": [
       "<IPython.core.display.HTML object>"
      ]
     },
     "metadata": {},
     "output_type": "display_data"
    },
    {
     "data": {
      "text/html": [
       "<div>\n",
       "<style scoped>\n",
       "    .dataframe tbody tr th:only-of-type {\n",
       "        vertical-align: middle;\n",
       "    }\n",
       "\n",
       "    .dataframe tbody tr th {\n",
       "        vertical-align: top;\n",
       "    }\n",
       "\n",
       "    .dataframe thead th {\n",
       "        text-align: right;\n",
       "    }\n",
       "</style>\n",
       "<table border=\"1\" class=\"dataframe\">\n",
       "  <thead>\n",
       "    <tr style=\"text-align: right;\">\n",
       "      <th></th>\n",
       "      <th>id_news</th>\n",
       "      <th>text</th>\n",
       "      <th>tag</th>\n",
       "    </tr>\n",
       "  </thead>\n",
       "  <tbody>\n",
       "    <tr>\n",
       "      <th>0</th>\n",
       "      <td>51,137,383</td>\n",
       "      <td>Este martes el  Senado aprobó el proyecto de l...</td>\n",
       "      <td>politica</td>\n",
       "    </tr>\n",
       "    <tr>\n",
       "      <th>1</th>\n",
       "      <td>47,191,374</td>\n",
       "      <td>Como una primera etapa superada, calificó la d...</td>\n",
       "      <td>politica</td>\n",
       "    </tr>\n",
       "    <tr>\n",
       "      <th>2</th>\n",
       "      <td>22,580,800</td>\n",
       "      <td>Comúnmente las personas asociamos el concepto ...</td>\n",
       "      <td>politica</td>\n",
       "    </tr>\n",
       "    <tr>\n",
       "      <th>3</th>\n",
       "      <td>22,386,170</td>\n",
       "      <td>El presidente del Colegio de Profesores y uno ...</td>\n",
       "      <td>politica</td>\n",
       "    </tr>\n",
       "    <tr>\n",
       "      <th>4</th>\n",
       "      <td>14,843,999</td>\n",
       "      <td>El presidente estadounidense,  Donald Trump,  ...</td>\n",
       "      <td>politica</td>\n",
       "    </tr>\n",
       "  </tbody>\n",
       "</table>\n",
       "</div>"
      ],
      "text/plain": [
       "      id_news                                               text       tag\n",
       "0  51,137,383  Este martes el  Senado aprobó el proyecto de l...  politica\n",
       "1  47,191,374  Como una primera etapa superada, calificó la d...  politica\n",
       "2  22,580,800  Comúnmente las personas asociamos el concepto ...  politica\n",
       "3  22,386,170  El presidente del Colegio de Profesores y uno ...  politica\n",
       "4  14,843,999  El presidente estadounidense,  Donald Trump,  ...  politica"
      ]
     },
     "metadata": {},
     "output_type": "display_data"
    }
   ],
   "source": [
    "import pandas as pd\n",
    "\n",
    "# Cargar el DataFrame desde trainee.csv\n",
    "trainee_df = pd.read_csv('trainee.csv')\n",
    "\n",
    "# Resumen de estadísticas descriptivas para las columnas numéricas (si las hay)\n",
    "summary_numeric = trainee_df.describe()\n",
    "\n",
    "# Primeras filas del DataFrame\n",
    "summary_head = trainee_df.head()\n",
    "\n",
    "# Mostrar el resumen como tabla\n",
    "from IPython.display import display, HTML\n",
    "\n",
    "display(HTML('<h2>Resumen de Estadísticas Descriptivas:</h2>'))\n",
    "display(summary_numeric)\n",
    "\n",
    "display(HTML('<h2>Primeras Filas del DataFrame:</h2>'))\n",
    "display(summary_head)\n"
   ]
  },
  {
   "cell_type": "code",
   "execution_count": 14,
   "id": "88195e26",
   "metadata": {},
   "outputs": [
    {
     "name": "stdout",
     "output_type": "stream",
     "text": [
      "3.6.1\n"
     ]
    }
   ],
   "source": [
    "#NLP\n",
    "import spacy\n",
    "nlp = spacy.load(\"en_core_web_sm\")\n",
    "print(spacy.__version__)\n",
    "from spacy.lang.en.stop_words import STOP_WORDS\n",
    "from spacy.lang.en import English\n",
    "import string\n",
    "\n",
    "#SKLEARN\n",
    "from sklearn.model_selection import train_test_split\n",
    "from sklearn.feature_extraction.text import CountVectorizer,TfidfVectorizer\n",
    "from sklearn.base import TransformerMixin\n",
    "from sklearn.pipeline import Pipeline\n",
    "from sklearn import metrics\n",
    "from sklearn.linear_model import LogisticRegression # Regresion Logística\n",
    "\n",
    "#PANDAS\n",
    "import pandas as pd"
   ]
  },
  {
   "cell_type": "code",
   "execution_count": 15,
   "id": "3c635dc4",
   "metadata": {},
   "outputs": [],
   "source": [
    "\n",
    "dataset = pd.read_csv(\"trainee.csv\")\n",
    "X = dataset['text']\n",
    "ylabels = dataset['tag']\n",
    "\n",
    "X_train, X_test, y_train, y_test = train_test_split(X, ylabels, test_size=0.3)"
   ]
  },
  {
   "cell_type": "code",
   "execution_count": 18,
   "id": "71edd46c",
   "metadata": {},
   "outputs": [],
   "source": [
    "# Create our list of punctuation marks\n",
    "punctuations = [\".\",\",\",\"!\",\"?\", \"#\",\"&\"]\n",
    "\n",
    "# Create our list of stopwords\n",
    "stop_words=[\"\"]\n",
    "\n",
    "# Load English tokenizer, tagger, parser, NER and word vectors\n",
    "parser = English()\n",
    "\n",
    "# Creating our tokenizer function\n",
    "def spacy_tokenizer(sentence):\n",
    "    # Creating our token object, which is used to create documents with linguistic annotations.\n",
    "    mytokens = parser(sentence)\n",
    "\n",
    "    # Lemmatizing each token and converting each token into lowercase\n",
    "    mytokens = [word.lower_ for word in mytokens]\n",
    "        \n",
    "    # Removing stop words\n",
    "    mytokens = [ word for word in mytokens if word not in stop_words and word not in punctuations ]\n",
    "\n",
    "    # return preprocessed list of tokens\n",
    "    return mytokens"
   ]
  },
  {
   "cell_type": "code",
   "execution_count": 19,
   "id": "6758973e",
   "metadata": {},
   "outputs": [
    {
     "name": "stderr",
     "output_type": "stream",
     "text": [
      "/home/fjm/.local/lib/python3.8/site-packages/sklearn/feature_extraction/text.py:528: UserWarning: The parameter 'token_pattern' will not be used since 'tokenizer' is not None'\n",
      "  warnings.warn(\n",
      "/home/fjm/.local/lib/python3.8/site-packages/sklearn/linear_model/_logistic.py:458: ConvergenceWarning: lbfgs failed to converge (status=1):\n",
      "STOP: TOTAL NO. of ITERATIONS REACHED LIMIT.\n",
      "\n",
      "Increase the number of iterations (max_iter) or scale the data as shown in:\n",
      "    https://scikit-learn.org/stable/modules/preprocessing.html\n",
      "Please also refer to the documentation for alternative solver options:\n",
      "    https://scikit-learn.org/stable/modules/linear_model.html#logistic-regression\n",
      "  n_iter_i = _check_optimize_result(\n"
     ]
    },
    {
     "data": {
      "text/html": [
       "<style>#sk-container-id-1 {color: black;background-color: white;}#sk-container-id-1 pre{padding: 0;}#sk-container-id-1 div.sk-toggleable {background-color: white;}#sk-container-id-1 label.sk-toggleable__label {cursor: pointer;display: block;width: 100%;margin-bottom: 0;padding: 0.3em;box-sizing: border-box;text-align: center;}#sk-container-id-1 label.sk-toggleable__label-arrow:before {content: \"▸\";float: left;margin-right: 0.25em;color: #696969;}#sk-container-id-1 label.sk-toggleable__label-arrow:hover:before {color: black;}#sk-container-id-1 div.sk-estimator:hover label.sk-toggleable__label-arrow:before {color: black;}#sk-container-id-1 div.sk-toggleable__content {max-height: 0;max-width: 0;overflow: hidden;text-align: left;background-color: #f0f8ff;}#sk-container-id-1 div.sk-toggleable__content pre {margin: 0.2em;color: black;border-radius: 0.25em;background-color: #f0f8ff;}#sk-container-id-1 input.sk-toggleable__control:checked~div.sk-toggleable__content {max-height: 200px;max-width: 100%;overflow: auto;}#sk-container-id-1 input.sk-toggleable__control:checked~label.sk-toggleable__label-arrow:before {content: \"▾\";}#sk-container-id-1 div.sk-estimator input.sk-toggleable__control:checked~label.sk-toggleable__label {background-color: #d4ebff;}#sk-container-id-1 div.sk-label input.sk-toggleable__control:checked~label.sk-toggleable__label {background-color: #d4ebff;}#sk-container-id-1 input.sk-hidden--visually {border: 0;clip: rect(1px 1px 1px 1px);clip: rect(1px, 1px, 1px, 1px);height: 1px;margin: -1px;overflow: hidden;padding: 0;position: absolute;width: 1px;}#sk-container-id-1 div.sk-estimator {font-family: monospace;background-color: #f0f8ff;border: 1px dotted black;border-radius: 0.25em;box-sizing: border-box;margin-bottom: 0.5em;}#sk-container-id-1 div.sk-estimator:hover {background-color: #d4ebff;}#sk-container-id-1 div.sk-parallel-item::after {content: \"\";width: 100%;border-bottom: 1px solid gray;flex-grow: 1;}#sk-container-id-1 div.sk-label:hover label.sk-toggleable__label {background-color: #d4ebff;}#sk-container-id-1 div.sk-serial::before {content: \"\";position: absolute;border-left: 1px solid gray;box-sizing: border-box;top: 0;bottom: 0;left: 50%;z-index: 0;}#sk-container-id-1 div.sk-serial {display: flex;flex-direction: column;align-items: center;background-color: white;padding-right: 0.2em;padding-left: 0.2em;position: relative;}#sk-container-id-1 div.sk-item {position: relative;z-index: 1;}#sk-container-id-1 div.sk-parallel {display: flex;align-items: stretch;justify-content: center;background-color: white;position: relative;}#sk-container-id-1 div.sk-item::before, #sk-container-id-1 div.sk-parallel-item::before {content: \"\";position: absolute;border-left: 1px solid gray;box-sizing: border-box;top: 0;bottom: 0;left: 50%;z-index: -1;}#sk-container-id-1 div.sk-parallel-item {display: flex;flex-direction: column;z-index: 1;position: relative;background-color: white;}#sk-container-id-1 div.sk-parallel-item:first-child::after {align-self: flex-end;width: 50%;}#sk-container-id-1 div.sk-parallel-item:last-child::after {align-self: flex-start;width: 50%;}#sk-container-id-1 div.sk-parallel-item:only-child::after {width: 0;}#sk-container-id-1 div.sk-dashed-wrapped {border: 1px dashed gray;margin: 0 0.4em 0.5em 0.4em;box-sizing: border-box;padding-bottom: 0.4em;background-color: white;}#sk-container-id-1 div.sk-label label {font-family: monospace;font-weight: bold;display: inline-block;line-height: 1.2em;}#sk-container-id-1 div.sk-label-container {text-align: center;}#sk-container-id-1 div.sk-container {/* jupyter's `normalize.less` sets `[hidden] { display: none; }` but bootstrap.min.css set `[hidden] { display: none !important; }` so we also need the `!important` here to be able to override the default hidden behavior on the sphinx rendered scikit-learn.org. See: https://github.com/scikit-learn/scikit-learn/issues/21755 */display: inline-block !important;position: relative;}#sk-container-id-1 div.sk-text-repr-fallback {display: none;}</style><div id=\"sk-container-id-1\" class=\"sk-top-container\"><div class=\"sk-text-repr-fallback\"><pre>Pipeline(steps=[(&#x27;preprocessing&#x27;,\n",
       "                 CountVectorizer(tokenizer=&lt;function spacy_tokenizer at 0x7fd6d0cb0700&gt;)),\n",
       "                (&#x27;regression-ML&#x27;, LogisticRegression())])</pre><b>In a Jupyter environment, please rerun this cell to show the HTML representation or trust the notebook. <br />On GitHub, the HTML representation is unable to render, please try loading this page with nbviewer.org.</b></div><div class=\"sk-container\" hidden><div class=\"sk-item sk-dashed-wrapped\"><div class=\"sk-label-container\"><div class=\"sk-label sk-toggleable\"><input class=\"sk-toggleable__control sk-hidden--visually\" id=\"sk-estimator-id-1\" type=\"checkbox\" ><label for=\"sk-estimator-id-1\" class=\"sk-toggleable__label sk-toggleable__label-arrow\">Pipeline</label><div class=\"sk-toggleable__content\"><pre>Pipeline(steps=[(&#x27;preprocessing&#x27;,\n",
       "                 CountVectorizer(tokenizer=&lt;function spacy_tokenizer at 0x7fd6d0cb0700&gt;)),\n",
       "                (&#x27;regression-ML&#x27;, LogisticRegression())])</pre></div></div></div><div class=\"sk-serial\"><div class=\"sk-item\"><div class=\"sk-estimator sk-toggleable\"><input class=\"sk-toggleable__control sk-hidden--visually\" id=\"sk-estimator-id-2\" type=\"checkbox\" ><label for=\"sk-estimator-id-2\" class=\"sk-toggleable__label sk-toggleable__label-arrow\">CountVectorizer</label><div class=\"sk-toggleable__content\"><pre>CountVectorizer(tokenizer=&lt;function spacy_tokenizer at 0x7fd6d0cb0700&gt;)</pre></div></div></div><div class=\"sk-item\"><div class=\"sk-estimator sk-toggleable\"><input class=\"sk-toggleable__control sk-hidden--visually\" id=\"sk-estimator-id-3\" type=\"checkbox\" ><label for=\"sk-estimator-id-3\" class=\"sk-toggleable__label sk-toggleable__label-arrow\">LogisticRegression</label><div class=\"sk-toggleable__content\"><pre>LogisticRegression()</pre></div></div></div></div></div></div></div>"
      ],
      "text/plain": [
       "Pipeline(steps=[('preprocessing',\n",
       "                 CountVectorizer(tokenizer=<function spacy_tokenizer at 0x7fd6d0cb0700>)),\n",
       "                ('regression-ML', LogisticRegression())])"
      ]
     },
     "execution_count": 19,
     "metadata": {},
     "output_type": "execute_result"
    }
   ],
   "source": [
    "bow_vector = CountVectorizer(tokenizer = spacy_tokenizer, ngram_range=(1,1))\n",
    "tfidf_vector = TfidfVectorizer(tokenizer = spacy_tokenizer, ngram_range=(1,1))\n",
    "# Logistic Regression Classifier\n",
    "modelLR = LogisticRegression()\n",
    "\n",
    "# Create pipeline using Bag of Words\n",
    "model1 = Pipeline([('preprocessing', bow_vector),\n",
    "                 ('regression-ML', modelLR)])\n",
    "\n",
    "# model generation\n",
    "model1.fit(X_train,y_train)"
   ]
  },
  {
   "cell_type": "code",
   "execution_count": 21,
   "id": "37819bf4",
   "metadata": {},
   "outputs": [
    {
     "name": "stdout",
     "output_type": "stream",
     "text": [
      "['accidentes' 'accidentes' 'internacional' 'ciencia' 'tecnologia'\n",
      " 'accidentes' 'internacional' 'entretenimiento' 'economia' 'internacional'\n",
      " 'deportes' 'internacional' 'educacion' 'internacional' 'economia'\n",
      " 'educacion' 'medio_ambiente' 'accidentes' 'economia' 'accidentes'\n",
      " 'educacion' 'accidentes' 'ciencia' 'tecnologia' 'educacion'\n",
      " 'internacional' 'entretenimiento' 'medio_ambiente' 'politica'\n",
      " 'accidentes' 'economia' 'ciencia' 'accidentes' 'ciencia' 'tecnologia'\n",
      " 'internacional' 'accidentes' 'medio_ambiente' 'salud' 'internacional'\n",
      " 'ciencia' 'accidentes' 'deportes' 'educacion' 'tecnologia' 'politica'\n",
      " 'economia' 'entretenimiento' 'ciencia' 'ciencia' 'deportes'\n",
      " 'internacional' 'medio_ambiente' 'medio_ambiente' 'medio_ambiente'\n",
      " 'politica' 'salud' 'accidentes' 'tecnologia' 'educacion' 'deportes'\n",
      " 'entretenimiento' 'medio_ambiente' 'educacion' 'medio_ambiente'\n",
      " 'internacional' 'educacion' 'entretenimiento' 'accidentes' 'ciencia'\n",
      " 'economia' 'internacional' 'deportes' 'economia' 'medio_ambiente'\n",
      " 'deportes' 'politica' 'educacion' 'accidentes' 'politica' 'salud'\n",
      " 'internacional' 'medio_ambiente' 'medio_ambiente' 'educacion'\n",
      " 'internacional' 'deportes' 'politica' 'tecnologia' 'ciencia' 'educacion'\n",
      " 'accidentes' 'ciencia' 'accidentes' 'internacional' 'educacion' 'salud'\n",
      " 'tecnologia' 'salud' 'educacion' 'entretenimiento' 'medio_ambiente'\n",
      " 'entretenimiento' 'medio_ambiente' 'economia' 'salud' 'entretenimiento'\n",
      " 'salud' 'tecnologia' 'medio_ambiente' 'entretenimiento' 'accidentes'\n",
      " 'educacion' 'educacion' 'entretenimiento' 'entretenimiento' 'accidentes'\n",
      " 'educacion' 'medio_ambiente' 'ciencia' 'accidentes' 'ciencia'\n",
      " 'entretenimiento' 'accidentes' 'politica' 'economia' 'deportes'\n",
      " 'accidentes' 'economia' 'ciencia' 'ciencia' 'deportes' 'politica'\n",
      " 'medio_ambiente' 'educacion' 'educacion' 'accidentes' 'accidentes'\n",
      " 'salud' 'accidentes' 'ciencia' 'internacional' 'accidentes' 'ciencia'\n",
      " 'salud' 'ciencia' 'economia' 'medio_ambiente' 'entretenimiento'\n",
      " 'educacion' 'accidentes' 'educacion' 'medio_ambiente' 'politica'\n",
      " 'entretenimiento' 'tecnologia' 'internacional' 'internacional'\n",
      " 'educacion' 'tecnologia' 'accidentes' 'internacional' 'deportes'\n",
      " 'internacional' 'accidentes' 'salud' 'medio_ambiente' 'deportes'\n",
      " 'economia' 'accidentes' 'accidentes' 'salud' 'entretenimiento' 'deportes'\n",
      " 'deportes' 'salud' 'politica' 'deportes' 'tecnologia' 'politica'\n",
      " 'educacion' 'ciencia' 'economia' 'economia' 'economia' 'salud'\n",
      " 'accidentes' 'ciencia' 'ciencia' 'salud' 'internacional' 'internacional'\n",
      " 'educacion' 'economia' 'ciencia' 'entretenimiento' 'ciencia'\n",
      " 'internacional' 'deportes' 'economia' 'internacional' 'internacional'\n",
      " 'internacional' 'tecnologia' 'ciencia' 'educacion' 'internacional'\n",
      " 'educacion' 'accidentes' 'politica' 'educacion' 'internacional'\n",
      " 'deportes' 'medio_ambiente' 'economia' 'economia' 'tecnologia'\n",
      " 'internacional' 'deportes' 'economia' 'economia' 'economia' 'economia'\n",
      " 'tecnologia' 'salud' 'accidentes' 'educacion' 'politica' 'tecnologia'\n",
      " 'economia' 'salud' 'internacional' 'educacion' 'salud' 'accidentes'\n",
      " 'accidentes' 'economia' 'ciencia' 'deportes' 'entretenimiento'\n",
      " 'internacional' 'salud' 'economia' 'politica' 'deportes' 'medio_ambiente'\n",
      " 'accidentes' 'internacional' 'educacion' 'accidentes' 'educacion'\n",
      " 'economia' 'economia' 'politica' 'politica' 'medio_ambiente'\n",
      " 'medio_ambiente' 'accidentes' 'accidentes' 'accidentes' 'entretenimiento'\n",
      " 'internacional' 'internacional' 'salud' 'accidentes' 'ciencia'\n",
      " 'accidentes' 'internacional' 'deportes' 'accidentes' 'tecnologia'\n",
      " 'internacional' 'internacional' 'economia' 'deportes' 'educacion'\n",
      " 'politica' 'deportes' 'internacional' 'entretenimiento' 'medio_ambiente'\n",
      " 'accidentes' 'tecnologia' 'educacion' 'deportes' 'accidentes' 'educacion'\n",
      " 'internacional' 'entretenimiento' 'educacion' 'medio_ambiente' 'politica'\n",
      " 'educacion' 'medio_ambiente' 'tecnologia' 'deportes' 'economia'\n",
      " 'tecnologia' 'ciencia' 'politica' 'accidentes' 'entretenimiento'\n",
      " 'politica' 'internacional' 'medio_ambiente' 'economia' 'deportes'\n",
      " 'ciencia' 'economia' 'tecnologia' 'ciencia' 'politica' 'educacion'\n",
      " 'accidentes' 'politica' 'medio_ambiente' 'tecnologia' 'medio_ambiente'\n",
      " 'salud' 'internacional' 'entretenimiento' 'salud' 'politica'\n",
      " 'medio_ambiente' 'deportes' 'ciencia' 'educacion' 'internacional'\n",
      " 'deportes' 'internacional']\n"
     ]
    }
   ],
   "source": [
    "# Predicting with a test dataset\n",
    "predicted = model1.predict(X_test)\n",
    "print(predicted)"
   ]
  },
  {
   "cell_type": "code",
   "execution_count": 22,
   "id": "6afd2757",
   "metadata": {},
   "outputs": [
    {
     "name": "stdout",
     "output_type": "stream",
     "text": [
      "[[28  2  0  1  1  0  1  0  1  0  2]\n",
      " [ 3 10  0  2  6  2  1  3  0  4  0]\n",
      " [ 4  2 11  1  3  4  1  2  0  0  1]\n",
      " [ 0  1  0 14  2  2  3  4  2  1  1]\n",
      " [ 3  2  1  1 14  1  2  1  1  3  2]\n",
      " [ 1  2  5  0  2  7  2  0  0  2  2]\n",
      " [ 1  0  1  0  0  0 21  0  2  0  1]\n",
      " [ 1  2  1  3  2  0  1 14  1  2  1]\n",
      " [ 3  3  0  3  0  1  8  3 12  0  0]\n",
      " [ 1  4  5  5  4  3  0  0  3  8  0]\n",
      " [ 1  1  3  2  3  2  2  3  1  1 11]]\n",
      "                 precision    recall  f1-score   support\n",
      "\n",
      "     accidentes       0.61      0.78      0.68        36\n",
      "        ciencia       0.34      0.32      0.33        31\n",
      "       deportes       0.41      0.38      0.39        29\n",
      "       economia       0.44      0.47      0.45        30\n",
      "      educacion       0.38      0.45      0.41        31\n",
      "entretenimiento       0.32      0.30      0.31        23\n",
      "  internacional       0.50      0.81      0.62        26\n",
      " medio_ambiente       0.47      0.50      0.48        28\n",
      "       politica       0.52      0.36      0.43        33\n",
      "          salud       0.38      0.24      0.30        33\n",
      "     tecnologia       0.52      0.37      0.43        30\n",
      "\n",
      "       accuracy                           0.45       330\n",
      "      macro avg       0.44      0.45      0.44       330\n",
      "   weighted avg       0.45      0.45      0.44       330\n",
      "\n"
     ]
    }
   ],
   "source": [
    "#Evaluación del rendimiento del clasificador\n",
    "from sklearn.metrics import confusion_matrix\n",
    "confusion_matrix = confusion_matrix(y_test, predicted)\n",
    "print(confusion_matrix)\n",
    "\n",
    "#Print de la matriz de confusión\n",
    "from sklearn.metrics import classification_report\n",
    "print(classification_report(y_test, predicted))"
   ]
  },
  {
   "cell_type": "code",
   "execution_count": null,
   "id": "a9c89f14",
   "metadata": {},
   "outputs": [],
   "source": []
  }
 ],
 "metadata": {
  "kernelspec": {
   "display_name": "Python 3 (ipykernel)",
   "language": "python",
   "name": "python3"
  },
  "language_info": {
   "codemirror_mode": {
    "name": "ipython",
    "version": 3
   },
   "file_extension": ".py",
   "mimetype": "text/x-python",
   "name": "python",
   "nbconvert_exporter": "python",
   "pygments_lexer": "ipython3",
   "version": "3.8.10"
  }
 },
 "nbformat": 4,
 "nbformat_minor": 5
}
